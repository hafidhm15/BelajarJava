{
  "nbformat": 4,
  "nbformat_minor": 0,
  "metadata": {
    "colab": {
      "name": "Copy of pert1.ipynb",
      "provenance": [],
      "collapsed_sections": [],
      "authorship_tag": "ABX9TyNisoyEmcg+KYT4OB2kEv0W",
      "include_colab_link": true
    },
    "kernelspec": {
      "name": "python3",
      "display_name": "Python 3"
    },
    "language_info": {
      "name": "python"
    }
  },
  "cells": [
    {
      "cell_type": "markdown",
      "metadata": {
        "id": "view-in-github",
        "colab_type": "text"
      },
      "source": [
        "<a href=\"https://colab.research.google.com/github/hafidhm15/BelajarJava/blob/master/Copy_of_pert1.ipynb\" target=\"_parent\"><img src=\"https://colab.research.google.com/assets/colab-badge.svg\" alt=\"Open In Colab\"/></a>"
      ]
    },
    {
      "cell_type": "code",
      "execution_count": null,
      "metadata": {
        "colab": {
          "base_uri": "https://localhost:8080/"
        },
        "id": "bWU216-Ut0R0",
        "outputId": "8528a0f9-df02-4559-bfcb-698ebfdb0458"
      },
      "outputs": [
        {
          "output_type": "stream",
          "name": "stdout",
          "text": [
            "belajar fullsatack proramming\n",
            "by bisaAi\n",
            "8\n",
            "a sama dengan 4\n",
            "9\n",
            "10\n",
            "2\n"
          ]
        }
      ],
      "source": [
        "# statement dan variabel\n",
        "print(\"belajar fullsatack proramming\")\n",
        "print(\"by bisaAi\")\n",
        "a = 4\n",
        "b = 4\n",
        "c= a + b\n",
        "print(c)\n",
        "# seleksi kondisi\n",
        "if(a > 4):\n",
        "  print(\"a lebih besar dari 4\")\n",
        "elif(a < 4 ):\n",
        "  print(\"a lebih kecil dari 4\")\n",
        "else:\n",
        "  print(\"a sama dengan 4\")\n",
        "\n",
        "# perulangan\n",
        "# for i in range(0,5): #perulangan yang sudah diketahui penjumlahannya\n",
        "#   print(i)\n",
        "\n",
        "#while\n",
        "# i = 0\n",
        "# while(i < 5):\n",
        "# print(i)\n",
        "# i = i + 1\n",
        "# fungsi dan prosedur\n",
        "def fungsiX(a,b,x,d):\n",
        "  return a + b, c+d, d\n",
        "\n",
        "x, y, z = fungsiX(5,4,3,2)\n",
        "print(x)\n",
        "print(y)\n",
        "print(z)\n",
        "\n",
        "\n",
        "\n",
        "# struktur data"
      ]
    },
    {
      "cell_type": "code",
      "source": [
        "# n = 100, faktor: 1,2,4,5,10,25,50,100\n",
        "#algoritma\n",
        "#1. buat perulangan 1..100 (i)\n",
        "#2. setiap i cek dengan n%1==0, jika tidak ada sisa maka i adalah faktor n\n",
        "n = 100\n",
        "for i in range(1, n + 1):\n",
        "   if(n%i==0):\n",
        "    print(str(i) + \" adalah faktor dari \" + str(n))"
      ],
      "metadata": {
        "colab": {
          "base_uri": "https://localhost:8080/"
        },
        "id": "4ptjvOU41vgY",
        "outputId": "d4704d5b-ac30-4394-aea6-ea4884603d5a"
      },
      "execution_count": null,
      "outputs": [
        {
          "output_type": "stream",
          "name": "stdout",
          "text": [
            "1 adalah faktor dari 100\n",
            "2 adalah faktor dari 100\n",
            "4 adalah faktor dari 100\n",
            "5 adalah faktor dari 100\n",
            "10 adalah faktor dari 100\n",
            "20 adalah faktor dari 100\n",
            "25 adalah faktor dari 100\n",
            "50 adalah faktor dari 100\n",
            "100 adalah faktor dari 100\n"
          ]
        }
      ]
    },
    {
      "cell_type": "markdown",
      "source": [
        "def faktorial(n"
      ],
      "metadata": {
        "id": "lqBgvnDU3Qfl"
      }
    },
    {
      "cell_type": "code",
      "source": [
        "#1.buat fungsi rekursif, stop case jika n=1\n",
        "#2.jika belum 1 maka akan melakukan perulangan terus\n",
        "n = 5\n",
        "def faktorial(n):\n",
        "    if(n==1):\n",
        "      return 1\n",
        "    else:\n",
        "      return faktorial(n-1) * n\n",
        "\n",
        "faktorial(5)"
      ],
      "metadata": {
        "colab": {
          "base_uri": "https://localhost:8080/"
        },
        "id": "54mbcW7a3WYg",
        "outputId": "66d89c62-bb2e-469e-8e70-3e4dd7e879d5"
      },
      "execution_count": null,
      "outputs": [
        {
          "output_type": "execute_result",
          "data": {
            "text/plain": [
              "120"
            ]
          },
          "metadata": {},
          "execution_count": 35
        }
      ]
    },
    {
      "cell_type": "code",
      "source": [
        "class Car:\n",
        "  def __init__(self, namaa, warnaa, platnomora):\n",
        "    self.nama = namaa\n",
        "    self.warna = warnaa\n",
        "    self.platnomor = platnomora\n",
        "  def setNama(self,nama):\n",
        "    self.nama = nama\n",
        "  def setWarna(self,warna):\n",
        "    self.warna = warna\n",
        "  def setPlatNomor(self,platnomor):\n",
        "    self.platnomor = platnomor\n",
        "  def getDataKendaraan(self):\n",
        "    return self.nama + \", \" + self.warna + \", \" + str(self.platnomor)\n",
        "\n",
        "xenia = Car(\"Xenia\",\"Merah\",1234)\n",
        "avanza = Car(\"Avanza\",\"Hijau\",4321)\n",
        "print(xenia.getDataKendaraan())\n",
        "print(avanza.getDataKendaraan())\n",
        "avanza.setNama(\"Toyota Avanza\")\n",
        "print(avanza.getDataKendaraan())\n",
        "\n"
      ],
      "metadata": {
        "colab": {
          "base_uri": "https://localhost:8080/"
        },
        "id": "V9pohT1J6lHk",
        "outputId": "f1a8a912-0361-4f29-b3e5-f7fb259d1f06"
      },
      "execution_count": null,
      "outputs": [
        {
          "output_type": "stream",
          "name": "stdout",
          "text": [
            "Xenia, Merah, 1234\n",
            "Avanza, Hijau, 4321\n",
            "Toyota Avanza, Hijau, 4321\n"
          ]
        }
      ]
    },
    {
      "cell_type": "code",
      "source": [
        "class Car:\n",
        "  def __init__(self, namaa, warnaa, platnomora):\n",
        "    self.nama = namaa\n",
        "    self.warna = warnaa\n",
        "    self.platnomor = platnomora\n",
        "  def setNama(self,nama):\n",
        "    self.nama = nama\n",
        "  def setWarna(self,warna):\n",
        "    self.warna = warna\n",
        "  def setPlatNomor(self,platnomor):\n",
        "    self.platnomor = platnomor\n",
        "  def getDataKendaraan(self):\n",
        "    return self.nama + \", \" + self.warna + \", \" + str(self.platnomor)\n",
        "\n",
        "  car = [] #index 0, 1, .., 99\n",
        "  for i in range(0, 100):\n",
        "   car.append(Car(\"car-\" + str(i),\"warna-\" + str(i),i))\n",
        "  for j in range(0, 100):\n",
        "   print(car[j].getDataKendaraan())\n",
        "  "
      ],
      "metadata": {
        "colab": {
          "base_uri": "https://localhost:8080/"
        },
        "id": "RwCYVolOCAzb",
        "outputId": "07316cbd-a26d-4dea-eae8-619d30866245"
      },
      "execution_count": null,
      "outputs": [
        {
          "output_type": "stream",
          "name": "stdout",
          "text": [
            "car-0, warna-0, 0\n",
            "car-1, warna-1, 1\n",
            "car-2, warna-2, 2\n",
            "car-3, warna-3, 3\n",
            "car-4, warna-4, 4\n",
            "car-5, warna-5, 5\n",
            "car-6, warna-6, 6\n",
            "car-7, warna-7, 7\n",
            "car-8, warna-8, 8\n",
            "car-9, warna-9, 9\n",
            "car-10, warna-10, 10\n",
            "car-11, warna-11, 11\n",
            "car-12, warna-12, 12\n",
            "car-13, warna-13, 13\n",
            "car-14, warna-14, 14\n",
            "car-15, warna-15, 15\n",
            "car-16, warna-16, 16\n",
            "car-17, warna-17, 17\n",
            "car-18, warna-18, 18\n",
            "car-19, warna-19, 19\n",
            "car-20, warna-20, 20\n",
            "car-21, warna-21, 21\n",
            "car-22, warna-22, 22\n",
            "car-23, warna-23, 23\n",
            "car-24, warna-24, 24\n",
            "car-25, warna-25, 25\n",
            "car-26, warna-26, 26\n",
            "car-27, warna-27, 27\n",
            "car-28, warna-28, 28\n",
            "car-29, warna-29, 29\n",
            "car-30, warna-30, 30\n",
            "car-31, warna-31, 31\n",
            "car-32, warna-32, 32\n",
            "car-33, warna-33, 33\n",
            "car-34, warna-34, 34\n",
            "car-35, warna-35, 35\n",
            "car-36, warna-36, 36\n",
            "car-37, warna-37, 37\n",
            "car-38, warna-38, 38\n",
            "car-39, warna-39, 39\n",
            "car-40, warna-40, 40\n",
            "car-41, warna-41, 41\n",
            "car-42, warna-42, 42\n",
            "car-43, warna-43, 43\n",
            "car-44, warna-44, 44\n",
            "car-45, warna-45, 45\n",
            "car-46, warna-46, 46\n",
            "car-47, warna-47, 47\n",
            "car-48, warna-48, 48\n",
            "car-49, warna-49, 49\n",
            "car-50, warna-50, 50\n",
            "car-51, warna-51, 51\n",
            "car-52, warna-52, 52\n",
            "car-53, warna-53, 53\n",
            "car-54, warna-54, 54\n",
            "car-55, warna-55, 55\n",
            "car-56, warna-56, 56\n",
            "car-57, warna-57, 57\n",
            "car-58, warna-58, 58\n",
            "car-59, warna-59, 59\n",
            "car-60, warna-60, 60\n",
            "car-61, warna-61, 61\n",
            "car-62, warna-62, 62\n",
            "car-63, warna-63, 63\n",
            "car-64, warna-64, 64\n",
            "car-65, warna-65, 65\n",
            "car-66, warna-66, 66\n",
            "car-67, warna-67, 67\n",
            "car-68, warna-68, 68\n",
            "car-69, warna-69, 69\n",
            "car-70, warna-70, 70\n",
            "car-71, warna-71, 71\n",
            "car-72, warna-72, 72\n",
            "car-73, warna-73, 73\n",
            "car-74, warna-74, 74\n",
            "car-75, warna-75, 75\n",
            "car-76, warna-76, 76\n",
            "car-77, warna-77, 77\n",
            "car-78, warna-78, 78\n",
            "car-79, warna-79, 79\n",
            "car-80, warna-80, 80\n",
            "car-81, warna-81, 81\n",
            "car-82, warna-82, 82\n",
            "car-83, warna-83, 83\n",
            "car-84, warna-84, 84\n",
            "car-85, warna-85, 85\n",
            "car-86, warna-86, 86\n",
            "car-87, warna-87, 87\n",
            "car-88, warna-88, 88\n",
            "car-89, warna-89, 89\n",
            "car-90, warna-90, 90\n",
            "car-91, warna-91, 91\n",
            "car-92, warna-92, 92\n",
            "car-93, warna-93, 93\n",
            "car-94, warna-94, 94\n",
            "car-95, warna-95, 95\n",
            "car-96, warna-96, 96\n",
            "car-97, warna-97, 97\n",
            "car-98, warna-98, 98\n",
            "car-99, warna-99, 99\n"
          ]
        }
      ]
    },
    {
      "cell_type": "code",
      "source": [
        "n = 5\n",
        "def faktorial(n):\n",
        "    if(n==1):\n",
        "      return 1\n",
        "    else:\n",
        "      return faktorial(n-1) * n\n",
        "\n",
        "faktorial(5)"
      ],
      "metadata": {
        "colab": {
          "base_uri": "https://localhost:8080/"
        },
        "id": "aUIlkMNQDJnJ",
        "outputId": "8288d729-cd60-4d87-c9e2-75f90ddbe4ca"
      },
      "execution_count": null,
      "outputs": [
        {
          "output_type": "execute_result",
          "data": {
            "text/plain": [
              "120"
            ]
          },
          "metadata": {},
          "execution_count": 74
        }
      ]
    }
  ]
}